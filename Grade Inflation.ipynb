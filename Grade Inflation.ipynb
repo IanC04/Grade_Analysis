{
 "cells": [
  {
   "cell_type": "markdown",
   "source": [
    "# Computes the UT Austin grade distribution data through the 2010s to the early 2020s\n",
    "\n",
    "## Created by: [Ian Chen](https://github.com/IanC04)"
   ],
   "metadata": {
    "collapsed": false
   },
   "id": "69183c16486c00c5"
  },
  {
   "cell_type": "code",
   "outputs": [],
   "source": [
    "import pandas as pd\n",
    "import numpy as np\n",
    "import matplotlib.pyplot as plt\n",
    "import matplotlib.animation as animation\n",
    "\n",
    "%matplotlib inline"
   ],
   "metadata": {
    "collapsed": false,
    "ExecuteTime": {
     "end_time": "2024-02-19T21:44:59.312096Z",
     "start_time": "2024-02-19T21:44:58.820344Z"
    }
   },
   "id": "8a17ff00165799b9",
   "execution_count": 1
  },
  {
   "cell_type": "markdown",
   "source": [
    "## Data Collection\n",
    "The data was collected from the UT Austin website, which provides grade distribution data for each semester.\n",
    "The data was collected from the Fall 2010 semester to the Spring 2023 semester.\n",
    "The data was then stored in a CSV file for easy access and manipulation."
   ],
   "metadata": {
    "collapsed": false
   },
   "id": "38fdd91cf103a35e"
  },
  {
   "cell_type": "code",
   "outputs": [],
   "source": [
    "# Read in the data\n",
    "import os\n",
    "from pathlib import Path\n",
    "\n",
    "data = dict()\n",
    "for f in os.listdir('Grades'):\n",
    "    year = Path(f).stem\n",
    "    df = pd.read_csv(f'Grades/{f}', skipinitialspace=True)\n",
    "    df['Year'] = year\n",
    "    data[year] = df\n",
    "del f, year, df\n",
    "\n",
    "data = pd.concat(data.values(), ignore_index=True)"
   ],
   "metadata": {
    "collapsed": false,
    "ExecuteTime": {
     "end_time": "2024-02-19T21:45:00.122644Z",
     "start_time": "2024-02-19T21:44:59.312096Z"
    }
   },
   "id": "bff88e3dd0bff7f8",
   "execution_count": 2
  },
  {
   "cell_type": "markdown",
   "source": [
    "## Data Cleaning\n",
    "Look for anomalies and +/- differences"
   ],
   "metadata": {
    "collapsed": false
   },
   "id": "c111cee1c37fc5d0"
  },
  {
   "cell_type": "code",
   "outputs": [
    {
     "data": {
      "text/plain": "       Section Number  Count of letter grade\ncount   858759.000000          858759.000000\nmean     36650.760651               5.474815\nstd      21757.175712              11.481225\nmin        170.000000               1.000000\n25%      16695.000000               1.000000\n50%      38550.000000               3.000000\n75%      52414.000000               6.000000\nmax      95305.000000            1438.000000",
      "text/html": "<div>\n<style scoped>\n    .dataframe tbody tr th:only-of-type {\n        vertical-align: middle;\n    }\n\n    .dataframe tbody tr th {\n        vertical-align: top;\n    }\n\n    .dataframe thead th {\n        text-align: right;\n    }\n</style>\n<table border=\"1\" class=\"dataframe\">\n  <thead>\n    <tr style=\"text-align: right;\">\n      <th></th>\n      <th>Section Number</th>\n      <th>Count of letter grade</th>\n    </tr>\n  </thead>\n  <tbody>\n    <tr>\n      <th>count</th>\n      <td>858759.000000</td>\n      <td>858759.000000</td>\n    </tr>\n    <tr>\n      <th>mean</th>\n      <td>36650.760651</td>\n      <td>5.474815</td>\n    </tr>\n    <tr>\n      <th>std</th>\n      <td>21757.175712</td>\n      <td>11.481225</td>\n    </tr>\n    <tr>\n      <th>min</th>\n      <td>170.000000</td>\n      <td>1.000000</td>\n    </tr>\n    <tr>\n      <th>25%</th>\n      <td>16695.000000</td>\n      <td>1.000000</td>\n    </tr>\n    <tr>\n      <th>50%</th>\n      <td>38550.000000</td>\n      <td>3.000000</td>\n    </tr>\n    <tr>\n      <th>75%</th>\n      <td>52414.000000</td>\n      <td>6.000000</td>\n    </tr>\n    <tr>\n      <th>max</th>\n      <td>95305.000000</td>\n      <td>1438.000000</td>\n    </tr>\n  </tbody>\n</table>\n</div>"
     },
     "execution_count": 3,
     "metadata": {},
     "output_type": "execute_result"
    }
   ],
   "source": [
    "# Check for anomalies\n",
    "data.describe()"
   ],
   "metadata": {
    "collapsed": false,
    "ExecuteTime": {
     "end_time": "2024-02-19T21:45:00.164503Z",
     "start_time": "2024-02-19T21:45:00.122644Z"
    }
   },
   "id": "38ea04fe45458879",
   "execution_count": 3
  }
 ],
 "metadata": {
  "kernelspec": {
   "display_name": "Python 3",
   "language": "python",
   "name": "python3"
  },
  "language_info": {
   "codemirror_mode": {
    "name": "ipython",
    "version": 2
   },
   "file_extension": ".py",
   "mimetype": "text/x-python",
   "name": "python",
   "nbconvert_exporter": "python",
   "pygments_lexer": "ipython2",
   "version": "2.7.6"
  }
 },
 "nbformat": 4,
 "nbformat_minor": 5
}
